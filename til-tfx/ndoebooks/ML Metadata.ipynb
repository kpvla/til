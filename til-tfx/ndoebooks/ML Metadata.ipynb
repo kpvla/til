{
 "cells": [
  {
   "cell_type": "code",
   "execution_count": 16,
   "metadata": {},
   "outputs": [],
   "source": [
    "from ml_metadata.metadata_store import metadata_store\n",
    "from ml_metadata.proto import metadata_store_pb2"
   ]
  },
  {
   "cell_type": "code",
   "execution_count": 17,
   "metadata": {},
   "outputs": [],
   "source": [
    "connection_config = metadata_store_pb2.ConnectionConfig()\n",
    "connection_config.sqlite.filename_uri = 'ml-metadata.sqlite3'\n",
    "connection_config.sqlite.connection_mode = 3\n",
    "store = metadata_store.MetadataStore(connection_config)"
   ]
  },
  {
   "cell_type": "code",
   "execution_count": 18,
   "metadata": {},
   "outputs": [],
   "source": [
    "data_type = metadata_store_pb2.ArtifactType()\n",
    "data_type.name = 'Dataset'\n",
    "data_type.properties['day'] = metadata_store_pb2.INT\n",
    "data_type.properties['split'] = metadata_store_pb2.STRING\n",
    "data_type_id = store.put_artifact_type(data_type)"
   ]
  },
  {
   "cell_type": "code",
   "execution_count": 19,
   "metadata": {},
   "outputs": [],
   "source": [
    "model_type = metadata_store_pb2.ArtifactType()\n",
    "model_type.name = 'SavedModel'\n",
    "model_type.properties['version'] = metadata_store_pb2.INT\n",
    "model_type.properties['name'] = metadata_store_pb2.STRING\n",
    "model_type_id = store.put_artifact_type(model_type)"
   ]
  },
  {
   "cell_type": "code",
   "execution_count": 20,
   "metadata": {},
   "outputs": [],
   "source": [
    "trainer_type = metadata_store_pb2.ExecutionType()\n",
    "trainer_type.name = 'Trainer'\n",
    "trainer_type.properties['state'] = metadata_store_pb2.STRING\n",
    "trainer_type_id = store.put_execution_type(trainer_type)"
   ]
  },
  {
   "cell_type": "code",
   "execution_count": 21,
   "metadata": {},
   "outputs": [],
   "source": [
    "data_artifact = metadata_store_pb2.Artifact()\n",
    "data_artifact.uri = 'dataset.zip'\n",
    "data_artifact.properties['day'].int_value = 1\n",
    "data_artifact.properties['split'].string_value = 'train'\n",
    "data_artifact.type_id = data_type_id\n",
    "data_artifact_id = store.put_artifacts([data_artifact])"
   ]
  },
  {
   "cell_type": "code",
   "execution_count": 22,
   "metadata": {},
   "outputs": [],
   "source": [
    "trainer_run = metadata_store_pb2.Execution()\n",
    "trainer_run.type_id = trainer_type_id\n",
    "trainer_run.properties['state'].string_value = 'RUNNING'\n",
    "run_id = store.put_executions([trainer_run])"
   ]
  },
  {
   "cell_type": "code",
   "execution_count": 27,
   "metadata": {},
   "outputs": [],
   "source": [
    "input_event = metadata_store_pb2.Event()\n",
    "input_event.artifact_id = data_artifact_id[0]\n",
    "input_event.execution_id = run_id[0]\n",
    "input_event.type = metadata_store_pb2.Event.DECLARED_INPUT\n",
    "store.put_events([input_event])"
   ]
  },
  {
   "cell_type": "code",
   "execution_count": 28,
   "metadata": {},
   "outputs": [],
   "source": [
    "model_artifact = metadata_store_pb2.Artifact()\n",
    "model_artifact.uri = 'model.pb2'\n",
    "model_artifact.properties['version'].int_value = 1\n",
    "model_artifact.properties['name'].string_value = 'MNIST-v1'\n",
    "model_artifact.type_id = model_type_id\n",
    "model_artifact_id = store.put_artifacts([model_artifact])"
   ]
  },
  {
   "cell_type": "code",
   "execution_count": 29,
   "metadata": {},
   "outputs": [],
   "source": [
    "output_event = metadata_store_pb2.Event()\n",
    "output_event.artifact_id = model_artifact_id[0]\n",
    "output_event.execution_id = run_id[0]\n",
    "output_event.type = metadata_store_pb2.Event.DECLARED_OUTPUT\n",
    "store.put_events([output_event])"
   ]
  },
  {
   "cell_type": "code",
   "execution_count": 30,
   "metadata": {},
   "outputs": [],
   "source": [
    "experiment_type = metadata_store_pb2.ContextType()\n",
    "experiment_type.name = 'Experiment'\n",
    "experiment_type.properties['note'] = metadata_store_pb2.STRING\n",
    "experiment_type_id = store.put_context_type(experiment_type)"
   ]
  },
  {
   "cell_type": "code",
   "execution_count": 31,
   "metadata": {},
   "outputs": [],
   "source": [
    "my_experiment = metadata_store_pb2.Context()\n",
    "my_experiment.type_id = experiment_type_id\n",
    "my_experiment.name = 'exp1'\n",
    "my_experiment.properties['note'].string_value = 'My first experiment.'\n",
    "experiment_id = store.put_contexts([my_experiment])"
   ]
  },
  {
   "cell_type": "code",
   "execution_count": 32,
   "metadata": {},
   "outputs": [],
   "source": [
    "attribution = metadata_store_pb2.Attribution()\n",
    "attribution.artifact_id = model_artifact_id[0]\n",
    "attribution.context_id = experiment_id[0]\n",
    "\n",
    "association = metadata_store_pb2.Association()\n",
    "association.execution_id = run_id[0]\n",
    "association.context_id = experiment_id[0]\n",
    "\n",
    "store.put_attributions_and_associations([attribution], [association])"
   ]
  },
  {
   "cell_type": "code",
   "execution_count": 34,
   "metadata": {},
   "outputs": [
    {
     "data": {
      "text/plain": [
       "[id: 1\n",
       " type_id: 1\n",
       " uri: \"dataset.zip\"\n",
       " properties {\n",
       "   key: \"day\"\n",
       "   value {\n",
       "     int_value: 1\n",
       "   }\n",
       " }\n",
       " properties {\n",
       "   key: \"split\"\n",
       "   value {\n",
       "     string_value: \"train\"\n",
       "   }\n",
       " }, id: 2\n",
       " type_id: 2\n",
       " uri: \"model.pb2\"\n",
       " properties {\n",
       "   key: \"name\"\n",
       "   value {\n",
       "     string_value: \"MNIST-v1\"\n",
       "   }\n",
       " }\n",
       " properties {\n",
       "   key: \"version\"\n",
       "   value {\n",
       "     int_value: 1\n",
       "   }\n",
       " }]"
      ]
     },
     "execution_count": 34,
     "metadata": {},
     "output_type": "execute_result"
    }
   ],
   "source": [
    "store.get_artifacts()"
   ]
  },
  {
   "cell_type": "code",
   "execution_count": 35,
   "metadata": {},
   "outputs": [
    {
     "data": {
      "text/plain": [
       "[id: 2\n",
       " type_id: 2\n",
       " uri: \"model.pb2\"\n",
       " properties {\n",
       "   key: \"name\"\n",
       "   value {\n",
       "     string_value: \"MNIST-v1\"\n",
       "   }\n",
       " }\n",
       " properties {\n",
       "   key: \"version\"\n",
       "   value {\n",
       "     int_value: 1\n",
       "   }\n",
       " }]"
      ]
     },
     "execution_count": 35,
     "metadata": {},
     "output_type": "execute_result"
    }
   ],
   "source": [
    "store.get_artifacts_by_context(experiment_id[0])"
   ]
  },
  {
   "cell_type": "code",
   "execution_count": 36,
   "metadata": {},
   "outputs": [
    {
     "data": {
      "text/plain": [
       "[id: 1\n",
       " type_id: 1\n",
       " uri: \"dataset.zip\"\n",
       " properties {\n",
       "   key: \"day\"\n",
       "   value {\n",
       "     int_value: 1\n",
       "   }\n",
       " }\n",
       " properties {\n",
       "   key: \"split\"\n",
       "   value {\n",
       "     string_value: \"train\"\n",
       "   }\n",
       " }]"
      ]
     },
     "execution_count": 36,
     "metadata": {},
     "output_type": "execute_result"
    }
   ],
   "source": [
    "store.get_artifacts_by_type('Dataset')"
   ]
  },
  {
   "cell_type": "code",
   "execution_count": null,
   "metadata": {},
   "outputs": [],
   "source": []
  }
 ],
 "metadata": {
  "kernelspec": {
   "display_name": "Python 3",
   "language": "python",
   "name": "python3"
  },
  "language_info": {
   "codemirror_mode": {
    "name": "ipython",
    "version": 3
   },
   "file_extension": ".py",
   "mimetype": "text/x-python",
   "name": "python",
   "nbconvert_exporter": "python",
   "pygments_lexer": "ipython3",
   "version": "3.7.3"
  }
 },
 "nbformat": 4,
 "nbformat_minor": 2
}
